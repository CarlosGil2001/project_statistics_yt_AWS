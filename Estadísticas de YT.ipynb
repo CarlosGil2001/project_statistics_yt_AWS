{
 "cells": [
  {
   "cell_type": "code",
   "execution_count": 103,
   "id": "6135552c",
   "metadata": {},
   "outputs": [],
   "source": [
    "# Librerías necesarias\n",
    "import pandas as pd\n",
    "import time\n",
    "import requests\n",
    "from bs4 import BeautifulSoup\n",
    "import json\n",
    "import random\n",
    "import time\n",
    "from datetime import datetime\n",
    "import datetime\n",
    "import os\n",
    "import numpy as np \n",
    "from millify import millify,prettify\n",
    "from tqdm import tqdm\n",
    "\n",
    "import credential_yt"
   ]
  },
  {
   "cell_type": "code",
   "execution_count": 104,
   "id": "0a662638",
   "metadata": {},
   "outputs": [],
   "source": [
    "#DEVELOPER_KEY = cred.API_KEY\n",
    "DEVELOPER_KEY = credential_yt.API_KEY"
   ]
  },
  {
   "cell_type": "markdown",
   "id": "faa3c121",
   "metadata": {},
   "source": [
    "## Estadísticas del canal de YT - FC Barcelona"
   ]
  },
  {
   "cell_type": "code",
   "execution_count": 105,
   "id": "1d48e2c0",
   "metadata": {},
   "outputs": [],
   "source": [
    "url = \"https://www.youtube.com/channel/UC14UlmYlSNiQCBe9Eookf_A\""
   ]
  },
  {
   "cell_type": "code",
   "execution_count": 106,
   "id": "24419ce2",
   "metadata": {},
   "outputs": [
    {
     "data": {
      "text/plain": [
       "{'kind': 'youtube#channelListResponse',\n",
       " 'etag': 'L6iRZGBzEyy8PSJHZ7OZXUsvqnM',\n",
       " 'pageInfo': {'totalResults': 1, 'resultsPerPage': 5},\n",
       " 'items': [{'kind': 'youtube#channel',\n",
       "   'etag': 'jicXFD09DiF1sJoXAos6Rq_QR-8',\n",
       "   'id': 'UC14UlmYlSNiQCBe9Eookf_A',\n",
       "   'statistics': {'viewCount': '2911840648',\n",
       "    'subscriberCount': '15900000',\n",
       "    'hiddenSubscriberCount': False,\n",
       "    'videoCount': '11261'}}]}"
      ]
     },
     "execution_count": 106,
     "metadata": {},
     "output_type": "execute_result"
    }
   ],
   "source": [
    "CANAL_ID = 'UC14UlmYlSNiQCBe9Eookf_A'\n",
    "\n",
    "url_canal_estadisticas = 'https://youtube.googleapis.com/youtube/v3/channels?part=statistics&id='+CANAL_ID+'&key='+DEVELOPER_KEY\n",
    "estadisticas_canal = requests.get(url_canal_estadisticas).json()\n",
    "estadisticas_canal"
   ]
  },
  {
   "cell_type": "code",
   "execution_count": 107,
   "id": "86649750",
   "metadata": {},
   "outputs": [],
   "source": [
    "# Extraemos la información de las estadisticas\n",
    "estadisticas_canal=estadisticas_canal['items'][0]['statistics']\n",
    "# Definimos la fecha de creación\n",
    "date = pd.to_datetime('today').strftime('%Y-%m-%d')"
   ]
  },
  {
   "cell_type": "code",
   "execution_count": 108,
   "id": "309ce830",
   "metadata": {},
   "outputs": [
    {
     "data": {
      "text/plain": [
       "{'Create_at': '2023-10-18',\n",
       " 'Total_Vistas': 2911840648,\n",
       " 'Suscripciones': 15900000,\n",
       " 'Cantidad_Videos': 11261}"
      ]
     },
     "execution_count": 108,
     "metadata": {},
     "output_type": "execute_result"
    }
   ],
   "source": [
    "# Definimos un diccionario con la información que necesitamos\n",
    "datos_canal = {\n",
    "    'Create_at':date,\n",
    "    'Total_Vistas':int(float(estadisticas_canal['viewCount'])),\n",
    "    'Suscripciones':int(float(estadisticas_canal['subscriberCount'])),\n",
    "    'Cantidad_Videos':int(float(estadisticas_canal['videoCount']))\n",
    "}\n",
    "datos_canal"
   ]
  },
  {
   "cell_type": "markdown",
   "id": "5606b1f2",
   "metadata": {},
   "source": [
    "### Funciones"
   ]
  },
  {
   "cell_type": "code",
   "execution_count": 109,
   "id": "360932ea",
   "metadata": {},
   "outputs": [],
   "source": [
    "# Función para retornar las estadísticas \n",
    "def get_estadisticas(api_key, canal_id):\n",
    "    \n",
    "    url_canal_estadisticas = 'https://youtube.googleapis.com/youtube/v3/channels?part=statistics&id='+canal_id+'&key='+api_key\n",
    "    estadisticas_canal = requests.get(url_canal_estadisticas).json()\n",
    "    \n",
    "    estadisticas_canal=estadisticas_canal['items'][0]['statistics']\n",
    "    date = pd.to_datetime('today').strftime('%Y-%m-%d')\n",
    "    datos_canal = {\n",
    "    'Create_at':date,\n",
    "    'Total_Vistas':int(float(estadisticas_canal['viewCount'])),\n",
    "    'Suscripciones':int(float(estadisticas_canal['subscriberCount'])),\n",
    "    'Cantidad_Videos':int(float(estadisticas_canal['videoCount']))\n",
    "    }\n",
    "    \n",
    "    return datos_canal"
   ]
  },
  {
   "cell_type": "code",
   "execution_count": 110,
   "id": "692be7c2",
   "metadata": {},
   "outputs": [
    {
     "data": {
      "text/plain": [
       "{'Create_at': '2023-10-18',\n",
       " 'Total_Vistas': 2911840648,\n",
       " 'Suscripciones': 15900000,\n",
       " 'Cantidad_Videos': 11261}"
      ]
     },
     "execution_count": 110,
     "metadata": {},
     "output_type": "execute_result"
    }
   ],
   "source": [
    "# Probamos la función\n",
    "get_estadisticas(DEVELOPER_KEY, CANAL_ID)"
   ]
  },
  {
   "cell_type": "markdown",
   "id": "f5c12e4b",
   "metadata": {},
   "source": [
    "### Análisis de Canales"
   ]
  },
  {
   "cell_type": "code",
   "execution_count": 111,
   "id": "4d71a9f4",
   "metadata": {},
   "outputs": [],
   "source": [
    "nombre_canales  =  ['Fc Barcelona','Real Madrid','Atletico Madrid','Sevilla']\n",
    "canales_id  =  ['UC14UlmYlSNiQCBe9Eookf_A','UCWV3obpZVGgJ3j9FVhEjF2Q','UCuzKFwdh7z2GHcIOX_tXgxA','UCLy9lmj_0cqffXUzbGHNmYA']"
   ]
  },
  {
   "cell_type": "code",
   "execution_count": 112,
   "id": "73223562",
   "metadata": {},
   "outputs": [],
   "source": [
    "# Lo unimos en un DF\n",
    "canales = {\n",
    "    'Nombre_Canal':nombre_canales,\n",
    "    'Id_Canal':canales_id}\n",
    "\n",
    "df_canales = pd.DataFrame(canales)"
   ]
  },
  {
   "cell_type": "code",
   "execution_count": 113,
   "id": "e2652f76",
   "metadata": {},
   "outputs": [
    {
     "data": {
      "text/html": [
       "<div>\n",
       "<style scoped>\n",
       "    .dataframe tbody tr th:only-of-type {\n",
       "        vertical-align: middle;\n",
       "    }\n",
       "\n",
       "    .dataframe tbody tr th {\n",
       "        vertical-align: top;\n",
       "    }\n",
       "\n",
       "    .dataframe thead th {\n",
       "        text-align: right;\n",
       "    }\n",
       "</style>\n",
       "<table border=\"1\" class=\"dataframe\">\n",
       "  <thead>\n",
       "    <tr style=\"text-align: right;\">\n",
       "      <th></th>\n",
       "      <th>Nombre_Canal</th>\n",
       "      <th>Id_Canal</th>\n",
       "    </tr>\n",
       "  </thead>\n",
       "  <tbody>\n",
       "    <tr>\n",
       "      <th>0</th>\n",
       "      <td>Fc Barcelona</td>\n",
       "      <td>UC14UlmYlSNiQCBe9Eookf_A</td>\n",
       "    </tr>\n",
       "    <tr>\n",
       "      <th>1</th>\n",
       "      <td>Real Madrid</td>\n",
       "      <td>UCWV3obpZVGgJ3j9FVhEjF2Q</td>\n",
       "    </tr>\n",
       "    <tr>\n",
       "      <th>2</th>\n",
       "      <td>Atletico Madrid</td>\n",
       "      <td>UCuzKFwdh7z2GHcIOX_tXgxA</td>\n",
       "    </tr>\n",
       "    <tr>\n",
       "      <th>3</th>\n",
       "      <td>Sevilla</td>\n",
       "      <td>UCLy9lmj_0cqffXUzbGHNmYA</td>\n",
       "    </tr>\n",
       "  </tbody>\n",
       "</table>\n",
       "</div>"
      ],
      "text/plain": [
       "      Nombre_Canal                  Id_Canal\n",
       "0     Fc Barcelona  UC14UlmYlSNiQCBe9Eookf_A\n",
       "1      Real Madrid  UCWV3obpZVGgJ3j9FVhEjF2Q\n",
       "2  Atletico Madrid  UCuzKFwdh7z2GHcIOX_tXgxA\n",
       "3          Sevilla  UCLy9lmj_0cqffXUzbGHNmYA"
      ]
     },
     "execution_count": 113,
     "metadata": {},
     "output_type": "execute_result"
    }
   ],
   "source": [
    "# Visualizamos el DF\n",
    "df_canales"
   ]
  },
  {
   "cell_type": "code",
   "execution_count": 114,
   "id": "44e8f083",
   "metadata": {},
   "outputs": [
    {
     "data": {
      "text/plain": [
       "{'Create_at': '2023-10-18',\n",
       " 'Total_Vistas': 2911840648,\n",
       " 'Suscripciones': 15900000,\n",
       " 'Cantidad_Videos': 11261}"
      ]
     },
     "execution_count": 114,
     "metadata": {},
     "output_type": "execute_result"
    }
   ],
   "source": [
    "# Probamos la función con información del DF\n",
    "get_estadisticas(DEVELOPER_KEY,df_canales['Id_Canal'][0])"
   ]
  },
  {
   "cell_type": "markdown",
   "id": "f4d82841",
   "metadata": {},
   "source": [
    "### Función para iterar en cada uno de los canales"
   ]
  },
  {
   "cell_type": "code",
   "execution_count": 115,
   "id": "cb5eabe0",
   "metadata": {},
   "outputs": [],
   "source": [
    "def canal_estadisticas(df,api_key):\n",
    "    \n",
    "    fecha = []\n",
    "    vistas = []\n",
    "    suscripciones = []\n",
    "    cantidad_videos = []\n",
    "    nombre_canal = []\n",
    "    \n",
    "    tiempo = [1,2.5,3,2]\n",
    "    \n",
    "    # Iterar el DF\n",
    "    for i in tqdm(range(len(df)),colour = 'blue'):\n",
    "        \n",
    "        stats_temp = get_estadisticas(DEVELOPER_KEY,df_canales['Id_Canal'][i])\n",
    "        \n",
    "        fecha.append(stats_temp['Create_at'])\n",
    "        vistas.append(stats_temp['Total_Vistas'])\n",
    "        suscripciones.append(stats_temp['Suscripciones'])\n",
    "        cantidad_videos.append(stats_temp['Cantidad_Videos'])\n",
    "        nombre_canal.append(df['Nombre_Canal'][i])\n",
    "        \n",
    "        time.sleep(random.choice(tiempo))\n",
    "    \n",
    "    datos = {\n",
    "        \n",
    "        'Nombre_Canal':nombre_canal,\n",
    "        'Suscripciones':suscripciones,\n",
    "        'Cantidad_Videos':cantidad_videos,\n",
    "        'Total_Vistas':vistas,\n",
    "        'created_at':fecha,\n",
    "        \n",
    "    }\n",
    "    \n",
    "    df_canales_final = pd.DataFrame(datos)\n",
    "    \n",
    "    return df_canales_final     "
   ]
  },
  {
   "cell_type": "code",
   "execution_count": 116,
   "id": "afcdfd65",
   "metadata": {},
   "outputs": [
    {
     "name": "stderr",
     "output_type": "stream",
     "text": [
      "100%|\u001b[34m████████████████████████████████████████████████████████████████████████████████████\u001b[0m| 4/4 [00:07<00:00,  1.77s/it]\u001b[0m\n"
     ]
    },
    {
     "data": {
      "text/html": [
       "<div>\n",
       "<style scoped>\n",
       "    .dataframe tbody tr th:only-of-type {\n",
       "        vertical-align: middle;\n",
       "    }\n",
       "\n",
       "    .dataframe tbody tr th {\n",
       "        vertical-align: top;\n",
       "    }\n",
       "\n",
       "    .dataframe thead th {\n",
       "        text-align: right;\n",
       "    }\n",
       "</style>\n",
       "<table border=\"1\" class=\"dataframe\">\n",
       "  <thead>\n",
       "    <tr style=\"text-align: right;\">\n",
       "      <th></th>\n",
       "      <th>Nombre_Canal</th>\n",
       "      <th>Suscripciones</th>\n",
       "      <th>Cantidad_Videos</th>\n",
       "      <th>Total_Vistas</th>\n",
       "      <th>created_at</th>\n",
       "    </tr>\n",
       "  </thead>\n",
       "  <tbody>\n",
       "    <tr>\n",
       "      <th>0</th>\n",
       "      <td>Fc Barcelona</td>\n",
       "      <td>15900000</td>\n",
       "      <td>11261</td>\n",
       "      <td>2911840648</td>\n",
       "      <td>2023-10-18</td>\n",
       "    </tr>\n",
       "    <tr>\n",
       "      <th>1</th>\n",
       "      <td>Real Madrid</td>\n",
       "      <td>11300000</td>\n",
       "      <td>6517</td>\n",
       "      <td>1728292469</td>\n",
       "      <td>2023-10-18</td>\n",
       "    </tr>\n",
       "    <tr>\n",
       "      <th>2</th>\n",
       "      <td>Atletico Madrid</td>\n",
       "      <td>349000</td>\n",
       "      <td>2950</td>\n",
       "      <td>39843286</td>\n",
       "      <td>2023-10-18</td>\n",
       "    </tr>\n",
       "    <tr>\n",
       "      <th>3</th>\n",
       "      <td>Sevilla</td>\n",
       "      <td>221000</td>\n",
       "      <td>13573</td>\n",
       "      <td>68875874</td>\n",
       "      <td>2023-10-18</td>\n",
       "    </tr>\n",
       "  </tbody>\n",
       "</table>\n",
       "</div>"
      ],
      "text/plain": [
       "      Nombre_Canal  Suscripciones  Cantidad_Videos  Total_Vistas  created_at\n",
       "0     Fc Barcelona       15900000            11261    2911840648  2023-10-18\n",
       "1      Real Madrid       11300000             6517    1728292469  2023-10-18\n",
       "2  Atletico Madrid         349000             2950      39843286  2023-10-18\n",
       "3          Sevilla         221000            13573      68875874  2023-10-18"
      ]
     },
     "execution_count": 116,
     "metadata": {},
     "output_type": "execute_result"
    }
   ],
   "source": [
    "# Probamos la función\n",
    "canal_estadisticas(df_canales, DEVELOPER_KEY)"
   ]
  },
  {
   "cell_type": "code",
   "execution_count": 117,
   "id": "d970b314",
   "metadata": {},
   "outputs": [
    {
     "data": {
      "text/html": [
       "<div>\n",
       "<style scoped>\n",
       "    .dataframe tbody tr th:only-of-type {\n",
       "        vertical-align: middle;\n",
       "    }\n",
       "\n",
       "    .dataframe tbody tr th {\n",
       "        vertical-align: top;\n",
       "    }\n",
       "\n",
       "    .dataframe thead th {\n",
       "        text-align: right;\n",
       "    }\n",
       "</style>\n",
       "<table border=\"1\" class=\"dataframe\">\n",
       "  <thead>\n",
       "    <tr style=\"text-align: right;\">\n",
       "      <th></th>\n",
       "      <th>Nombre_Canal</th>\n",
       "      <th>Id_Canal</th>\n",
       "    </tr>\n",
       "  </thead>\n",
       "  <tbody>\n",
       "    <tr>\n",
       "      <th>0</th>\n",
       "      <td>Fc Barcelona</td>\n",
       "      <td>UC14UlmYlSNiQCBe9Eookf_A</td>\n",
       "    </tr>\n",
       "    <tr>\n",
       "      <th>1</th>\n",
       "      <td>Real Madrid</td>\n",
       "      <td>UCWV3obpZVGgJ3j9FVhEjF2Q</td>\n",
       "    </tr>\n",
       "    <tr>\n",
       "      <th>2</th>\n",
       "      <td>Atletico Madrid</td>\n",
       "      <td>UCuzKFwdh7z2GHcIOX_tXgxA</td>\n",
       "    </tr>\n",
       "    <tr>\n",
       "      <th>3</th>\n",
       "      <td>Sevilla</td>\n",
       "      <td>UCLy9lmj_0cqffXUzbGHNmYA</td>\n",
       "    </tr>\n",
       "  </tbody>\n",
       "</table>\n",
       "</div>"
      ],
      "text/plain": [
       "      Nombre_Canal                  Id_Canal\n",
       "0     Fc Barcelona  UC14UlmYlSNiQCBe9Eookf_A\n",
       "1      Real Madrid  UCWV3obpZVGgJ3j9FVhEjF2Q\n",
       "2  Atletico Madrid  UCuzKFwdh7z2GHcIOX_tXgxA\n",
       "3          Sevilla  UCLy9lmj_0cqffXUzbGHNmYA"
      ]
     },
     "execution_count": 117,
     "metadata": {},
     "output_type": "execute_result"
    }
   ],
   "source": [
    "df_canales"
   ]
  },
  {
   "cell_type": "code",
   "execution_count": 122,
   "id": "baecedfe",
   "metadata": {},
   "outputs": [],
   "source": [
    "# Descargar el archivo en formato CSV\n",
    "\n",
    "current_datetime = datetime.now()\n",
    "year_month = current_datetime.strftime('%Y%m%d')\n",
    "file_name = f'./input/canal_estadisticas_{year_month}.csv'\n",
    "\n",
    "df_canales.to_csv(file_name, index=False)"
   ]
  }
 ],
 "metadata": {
  "kernelspec": {
   "display_name": "Python 3 (ipykernel)",
   "language": "python",
   "name": "python3"
  },
  "language_info": {
   "codemirror_mode": {
    "name": "ipython",
    "version": 3
   },
   "file_extension": ".py",
   "mimetype": "text/x-python",
   "name": "python",
   "nbconvert_exporter": "python",
   "pygments_lexer": "ipython3",
   "version": "3.10.7"
  }
 },
 "nbformat": 4,
 "nbformat_minor": 5
}
